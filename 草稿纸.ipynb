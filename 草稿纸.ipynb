{
 "cells": [
  {
   "cell_type": "code",
   "execution_count": null,
   "id": "bbc07a4e-e1dd-4765-9e8a-3bc098deef34",
   "metadata": {
    "scrolled": true
   },
   "outputs": [],
   "source": [
    "def init_ruban(size, offset1=0, size2=0):\n",
    "   return ([0] * offset1) + ([0] * 500) + ([1] * size) + ([0] * 2) + ([1] * size2) + ([0] * (1000 - offset1 - size - size2 - 2 - 500))\n",
    "\n",
    "print(init_ruban(14,0,20))"
   ]
  },
  {
   "cell_type": "code",
   "execution_count": null,
   "id": "454754b1-c235-435e-8b46-41d2847b030d",
   "metadata": {},
   "outputs": [],
   "source": [
    "ruban = init_ruban(14,0,20)\n",
    "X = 500\n",
    "\n",
    "def D(X):\n",
    "    return X + 1\n",
    "    \n",
    "def boucle0(ruban, X):\n",
    "    if ruban[X] == 0:\n",
    "        return ruban, X\n",
    "    X = D(X)\n",
    "    return boucle0(ruban, X)  # Ajout du `return` ici\n",
    "ruban, X = boucle0(ruban, X)"
   ]
  },
  {
   "cell_type": "code",
   "execution_count": null,
   "id": "1abbf319-10be-48ec-9bf7-cb6800df9972",
   "metadata": {},
   "outputs": [],
   "source": [
    "input('Press Enter to continue')"
   ]
  },
  {
   "cell_type": "code",
   "execution_count": null,
   "id": "fa56963d-fec3-43aa-a575-d60454dc2de3",
   "metadata": {},
   "outputs": [],
   "source": [
    "X = [500]\n",
    "\n",
    "def G(X):\n",
    "    X.append(X[-1]-1)\n",
    "    X.pop(0)\n",
    "\n",
    "G(X)\n",
    "print(X)"
   ]
  },
  {
   "cell_type": "code",
   "execution_count": 1,
   "id": "529a7ee4-0fba-4aaa-91fb-67c8bcdaa679",
   "metadata": {},
   "outputs": [
    {
     "name": "stdout",
     "output_type": "stream",
     "text": [
      "[1, 1, 0, 1]\n"
     ]
    }
   ],
   "source": [
    "ruban = [1,0,0,1]\n",
    "X = [1]\n",
    "\n",
    "def V1():\n",
    "    index = X[-1]\n",
    "    ruban.pop(index)\n",
    "    ruban.insert(index, 1)\n",
    "\n",
    "V1()\n",
    "print(ruban)"
   ]
  },
  {
   "cell_type": "code",
   "execution_count": null,
   "id": "8b1bd279-87e8-4d7f-9741-6cf9795e819f",
   "metadata": {},
   "outputs": [],
   "source": []
  }
 ],
 "metadata": {
  "kernelspec": {
   "display_name": "Python (tal)",
   "language": "python",
   "name": "tal"
  },
  "language_info": {
   "codemirror_mode": {
    "name": "ipython",
    "version": 3
   },
   "file_extension": ".py",
   "mimetype": "text/x-python",
   "name": "python",
   "nbconvert_exporter": "python",
   "pygments_lexer": "ipython3",
   "version": "3.9.19"
  }
 },
 "nbformat": 4,
 "nbformat_minor": 5
}
